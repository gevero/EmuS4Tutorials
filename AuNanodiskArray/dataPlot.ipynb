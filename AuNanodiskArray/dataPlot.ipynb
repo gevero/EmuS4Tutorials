{
 "cells": [
  {
   "cell_type": "markdown",
   "metadata": {},
   "source": [
    "## Loading and comparing EMUstack and S4 data."
   ]
  },
  {
   "cell_type": "markdown",
   "metadata": {},
   "source": [
    "#### Load libraries"
   ]
  },
  {
   "cell_type": "code",
   "execution_count": null,
   "metadata": {},
   "outputs": [],
   "source": [
    "# libraries\n",
    "import numpy as np\n",
    "import xarray as xr\n",
    "\n",
    "# matplotlib, the python plotting libraries: inline makes the plot appear in the notebook\n",
    "import matplotlib.pylab as plt\n",
    "%matplotlib inline "
   ]
  },
  {
   "cell_type": "markdown",
   "metadata": {},
   "source": [
    "#### Load data"
   ]
  },
  {
   "cell_type": "code",
   "execution_count": null,
   "metadata": {},
   "outputs": [],
   "source": [
    "emu_spectra = xr.load_dataarray('data/EMU_AuNdArraySpectra_circle_px600.0_py400.0_r100.0_h100.0_180222_121902.nc')\n",
    "emu_lf = xr.load_dataarray('data/EMU_AuNdArrayLF_circle_px600.0_py400.0_r100.0_h100.0_180222_123847.nc')\n",
    "s4_spectra = xr.load_dataarray('data/S4_AuNdArraySpectra_circle_px600.0_py400.0_r100.0_h100.0_180222_123031.nc')\n",
    "s4_lf = xr.load_dataarray('data/S4_AuNdArrayLF_circle_px600.0_py400.0_r100.0_h100.0_180222_123816.nc')\n",
    "px = 600.0\n",
    "py = 600.0"
   ]
  },
  {
   "cell_type": "markdown",
   "metadata": {},
   "source": [
    "#### Plot the spectra"
   ]
  },
  {
   "cell_type": "code",
   "execution_count": null,
   "metadata": {},
   "outputs": [],
   "source": [
    "# create a figure with three panels\n",
    "f_size_title= 32\n",
    "f_size = 20\n",
    "fig, (ax0, ax1, ax2) = plt.subplots(nrows=1, ncols=3, sharex=True, sharey=True, figsize=(24, 6))\n",
    "fig.suptitle('EMUstack vs S4 Spectra Comparison',fontsize = f_size_title)\n",
    "\n",
    "# ------ plot reflectance ------\n",
    "ax0.plot(emu_spectra.coords['wavelength'],emu_spectra.sel(spectrum='R'))\n",
    "ax0.plot(s4_spectra.coords['wavelength'],s4_spectra.sel(spectrum='R'))\n",
    "\n",
    "# labels\n",
    "ax0.set_xlabel('Wavelength (nm)',fontsize=f_size)\n",
    "ax0.set_ylabel('Reflectance',fontsize=f_size)\n",
    "\n",
    "# legend\n",
    "ax0.legend(['EMUstack','S4'],fontsize=f_size)\n",
    "\n",
    "# ticks\n",
    "ax0.tick_params(labelsize=f_size)\n",
    "\n",
    "# ------ plot transmittance ------\n",
    "ax1.plot(emu_spectra.coords['wavelength'],emu_spectra.sel(spectrum='T'))\n",
    "ax1.plot(s4_spectra.coords['wavelength'],s4_spectra.sel(spectrum='T'))\n",
    "\n",
    "# labels\n",
    "ax1.set_xlabel('Wavelength (nm)',fontsize=f_size)\n",
    "ax1.set_ylabel('Reflectance',fontsize=f_size)\n",
    "\n",
    "# legend\n",
    "ax1.legend(['EMUstack','S4'],fontsize=f_size)\n",
    "\n",
    "# ticks\n",
    "ax1.tick_params(labelsize=f_size)\n",
    "\n",
    "# ------ plot absorption ------\n",
    "ax2.plot(emu_spectra.coords['wavelength'],emu_spectra.sel(spectrum='A'))\n",
    "ax2.plot(s4_spectra.coords['wavelength'],s4_spectra.sel(spectrum='A'))\n",
    "\n",
    "# labels\n",
    "ax2.set_xlabel('Wavelength (nm)',fontsize=f_size)\n",
    "ax2.set_ylabel('Reflectance',fontsize=f_size)\n",
    "\n",
    "# legend\n",
    "ax2.legend(['EMUstack','S4'],fontsize=f_size)\n",
    "\n",
    "# ticks\n",
    "ax2.tick_params(labelsize=f_size)\n",
    "\n",
    "plt.tight_layout()\n"
   ]
  },
  {
   "cell_type": "markdown",
   "metadata": {},
   "source": [
    "#### plot the local field"
   ]
  },
  {
   "cell_type": "code",
   "execution_count": null,
   "metadata": {},
   "outputs": [],
   "source": [
    "# create a figure with three panels\n",
    "f_size_title = 32\n",
    "f_size = 20\n",
    "fig, ax = plt.subplots(nrows=2, ncols=2, figsize=(18, 12))\n",
    "fig.suptitle(\"EMUstack vs S4  Local Field Comparison\", fontsize=f_size_title)\n",
    "\n",
    "# ------ EMU lf map ------\n",
    "im = ax[0,0].imshow(emu_lf, origin='lower',cmap='magma',aspect=py/px)\n",
    "cbar = fig.colorbar(im,ax=ax[0,0])\n",
    "cbar.set_label('|E|',fontsize=f_size)\n",
    "cbar.ax.tick_params(labelsize=f_size) \n",
    "\n",
    "# ticks\n",
    "ax[0,0].set_xticks([])\n",
    "ax[0,0].set_yticks([])\n",
    "ax[0,0].tick_params(labelsize=f_size)\n",
    "\n",
    "# ------ S4 lf map ------\n",
    "im = ax[0,1].imshow(s4_lf, origin='lower',cmap='magma',aspect=py/px)\n",
    "cbar = fig.colorbar(im,ax=ax[0,1])\n",
    "cbar.set_label('|E|',fontsize=f_size)\n",
    "cbar.ax.tick_params(labelsize=f_size) \n",
    "\n",
    "# ticks\n",
    "ax[0,1].set_xticks([])\n",
    "ax[0,1].set_yticks([])\n",
    "ax[0,1].tick_params(labelsize=f_size)\n",
    "\n",
    "\n",
    "# ------ EMU lf cut ------\n",
    "ax[1,0].plot(emu_lf.coords['x'],emu_lf.interp(y=300.0))\n",
    "\n",
    "# labels\n",
    "ax[1,0].set_xlabel('x',fontsize=f_size)\n",
    "ax[1,0].set_ylabel('|E|',fontsize=f_size)\n",
    "\n",
    "# ticks\n",
    "ax[1,0].tick_params(labelsize=f_size)\n",
    "\n",
    "# ------ S4 lf cut ------\n",
    "ax[1,1].plot(s4_lf.coords['x'],s4_lf.interp(y=300.0))\n",
    "\n",
    "# labels\n",
    "ax[1,1].set_xlabel('x',fontsize=f_size)\n",
    "ax[1,1].set_ylabel('|E|',fontsize=f_size)\n",
    "\n",
    "# ticks\n",
    "ax[1,1].tick_params(labelsize=f_size)\n",
    "\n",
    "plt.tight_layout()\n"
   ]
  },
  {
   "cell_type": "markdown",
   "metadata": {},
   "source": [
    "## Now we can continue the tutorial as follows:\n",
    "- Copy the **AuNanodiskArray** folder to the **AuNanodiskArrayConvergence** folder\n",
    "- Inside the new folder, convert the **Spectra** and **LF** notebook to python scripts\n",
    "- Run the script changing the following parameters:\n",
    "    - Mesh, plane wave and bloch modes parameters for EMUstack\n",
    "    - Plane wave parameters and Fast Fourier Factorization options for S4\n",
    "\n",
    "## Further exercises\n",
    "- We duplicate the **AuNanodiskArrayConvergence** folder (because it already contains the converted scripts) to a new, properly named folder, and then tackle one of the following problems:\n",
    "- Change the lattice constants\n",
    "- Change the layer thickness, first naively, and then using the already computed expansions, and see the time gained\n",
    "- Model the reciprocal structure, i.e. a nanohole array\n",
    "- Use a square inclusion\n",
    "- Use a circular dimer inclusion\n",
    "- Use a square dimer inclusion\n",
    "- etc..."
   ]
  },
  {
   "cell_type": "code",
   "execution_count": null,
   "metadata": {},
   "outputs": [],
   "source": []
  }
 ],
 "metadata": {
  "interpreter": {
   "hash": "c76d8be8ff8db75ac82c0a56469940f153bb76f9e9839ea54774f5a675a4465e"
  },
  "kernelspec": {
   "display_name": "Python 3.8.12 ('nomkl')",
   "language": "python",
   "name": "python3"
  },
  "language_info": {
   "codemirror_mode": {
    "name": "ipython",
    "version": 3
   },
   "file_extension": ".py",
   "mimetype": "text/x-python",
   "name": "python",
   "nbconvert_exporter": "python",
   "pygments_lexer": "ipython3",
   "version": "3.8.12"
  },
  "orig_nbformat": 4
 },
 "nbformat": 4,
 "nbformat_minor": 2
}

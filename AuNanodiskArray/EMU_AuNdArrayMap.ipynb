{
 "cells": [
  {
   "cell_type": "markdown",
   "metadata": {},
   "source": [
    "#### General Code Setup\n",
    "As a first step we:\n",
    "- Import all the necessary libraries for our computation\n",
    "- Setup some folders for the loading and saving of all necessary files and to run correctly EMUstack"
   ]
  },
  {
   "cell_type": "markdown",
   "metadata": {},
   "source": [
    "#### Libraries imported\n",
    "![xkcd python](https://imgs.xkcd.com/comics/python.png \"I wrote 20 short programs in Python yesterday.  It was wonderful.  Perl, I'm leaving you.\")\n",
    "- [os](https://docs.python.org/3/library/os.html): used to setup some folder to run correctly the code\n",
    "- [sys](https://docs.python.org/3/library/sys.html): used to make EMUstack accessible\n",
    "- [numpy](https://numpy.org/): essentially matlab for python. We use it to manipulate matrix data\n",
    "- [concurrent.futures](https://docs.python.org/3/library/concurrent.futures.html): to run the code in parallel\n",
    "- [xarray](https://docs.xarray.dev/en/stable/): library to save labelled data along with the relevant metadata (important for reproducibility)\n",
    "- [datetime](https://docs.python.org/3/library/datetime.html): we use it to create a timestamp for the saved files"
   ]
  },
  {
   "cell_type": "code",
   "execution_count": null,
   "metadata": {},
   "outputs": [],
   "source": [
    "# libraries\n",
    "import os\n",
    "import numpy as np\n",
    "import sys\n",
    "import concurrent.futures\n",
    "import xarray as xr\n",
    "from datetime import datetime\n",
    "\n",
    "# folder setup\n",
    "script_dir = os.getcwd()  # running file folder"
   ]
  },
  {
   "cell_type": "markdown",
   "metadata": {},
   "source": [
    "#### Import EMUstack\n",
    "In order to correctly load all the components of EMUstack we:\n",
    "- make the EMUstack folder accessible\n",
    "- load the EMUstack paths module to define the working folders\n",
    "- load all the other EMUstack modules"
   ]
  },
  {
   "cell_type": "code",
   "execution_count": null,
   "metadata": {},
   "outputs": [],
   "source": [
    "# setup EMUstack paths\n",
    "sys.path.append(\"/programs/EMUstack/backend/\")  # makes EMUstack accessible\n",
    "import paths\n",
    "paths.backend_path = \"/programs/EMUstack/backend/\"  # location of EMUstack \"engine\"\n",
    "paths.data_path = \"/programs/EMUstack/backend/data/\"  # location of material files\n",
    "paths.msh_path = script_dir + \"/msh/\"  # folder where we save the mesh files\n",
    "paths.template_path = \"/programs/EMUstack/backend/fortran/msh/\"  # folder containing the mesh templates\n",
    "\n",
    "# import emustack\n",
    "import objects  # EMUstack incident field and layer structures\n",
    "import materials  # EMUstack available material library\n",
    "import plotting  # EMUstack plotting routines\n",
    "from stack import Stack  # EMUstack multilayer structures"
   ]
  },
  {
   "cell_type": "markdown",
   "metadata": {},
   "source": [
    "#### Defining the inputs\n",
    "We are going to calculate the transmission and reflectance spectrum of a Gold Nanodisk array. To do so we need to define the following groups of input parameters:\n",
    "- **Geometrical parameters** of our multilayers, including thicknesses, disk size, etc...\n",
    "- **Material parameters** such as the composition of each layer, substrate and superstrate included\n",
    "- **Illumination parameters**, i.e. wavelengths, angles and polarizations of the incident field\n",
    "- **EMUstack parameters**, i.e. parameters that are strictly connected with the inner workings of EMUstack\n",
    "\n",
    "We will try to store all these input parameters inside [dictionaries](https://docs.python.org/3/tutorial/datastructures.html#dictionaries), so that they can be handily exported later in order to improve the riproducibility of our calculations"
   ]
  },
  {
   "cell_type": "code",
   "execution_count": null,
   "metadata": {},
   "outputs": [],
   "source": [
    "# light dictionary\n",
    "light = {}\n",
    "light['wl_min'] = 400.0  # minimum spectral wavelength\n",
    "light['wl_max'] = 800.0  # maximum spectral wavelength\n",
    "light['n_wl'] = 10  # spectral points\n",
    "light['theta_min'] = 0.0\n",
    "light['theta_max'] = 10.0\n",
    "light['n_theta'] = 10\n",
    "light['phi'] = 0.0\n",
    "light['max_order_PWs'] = 2  # number of plane waves\n",
    "\n",
    "# materials dictionary\n",
    "mats = {}\n",
    "mats['Au'] = materials.Au\n",
    "mats['Air'] = materials.Air\n",
    "\n",
    "# Geometrical parameters\n",
    "struct = {}\n",
    "# nanodisk array parameters\n",
    "struct['periodicity'] = \"2D_array\"  # we are modeling a 1d array (EMU)\n",
    "struct['inc_shape'] = 'circle'  # nanodisks -> so we choose the circle shape (EMU)\n",
    "struct['nd_radius'] = 100.0  # nanodisk radius\n",
    "struct['nd_height'] = 100.0  # nanodisk height\n",
    "struct['nd_period_x'] = 600.0  # nanodisk array x period\n",
    "struct['nd_period_y'] = 600.0  # nanodisk array y period\n",
    "struct['nd_inc_mat'] = 'Au'  # nanodisk material\n",
    "struct['nd_back_mat'] = 'Air'  # background material in the nanodisk array\n",
    "struct['nd_loss'] = True  # we must include losses in the computation (EMU)\n",
    "# superstrate and substrate parameters\n",
    "struct['sub_mat'] = 'Air'  # substrate material\n",
    "struct['sup_mat'] = 'Air'  # superstrate material\n",
    "struct['sub_loss'] = False  # no losses in the substrate (EMU)\n",
    "struct['sup_loss'] = False  # no losses in the superstrate (EMU)\n",
    "struct['n_layers'] = 3\n",
    "\n",
    "# Emustack parameters\n",
    "emu = {}\n",
    "emu['plotting_fields'] = False  # we do not want to plot the fields in this case\n",
    "emu['make_mesh_now'] = True  # we make the mesh, otherwise we must provide one with a filename\n",
    "emu['force_mesh'] = True  # create mesh even if one already exist\n",
    "emu['lc_bkg'] = 0.15  # background mesh finesse\n",
    "emu['lc2'] = 2.0  # first mesh refinement\n",
    "emu['lc3'] = 2.0  # second mesh refinement\n",
    "\n",
    "# auxiliary vectors\n",
    "v_wl = np.linspace(light['wl_min'], light['wl_max'], light['n_wl'])  # auxiliary wavelength vector"
   ]
  },
  {
   "cell_type": "markdown",
   "metadata": {},
   "source": [
    "#### Initialize the single layers\n",
    "In EMUstack each layer is initialized (and solved) separately and the solution is not influenced by its position inside the stack. There are two kind of layers:\n",
    "- ThinFilm: layer that are not nanostructured and are simple to initialize\n",
    "- NanoStruct: patterned layers which need more parameters to be initialized"
   ]
  },
  {
   "cell_type": "code",
   "execution_count": null,
   "metadata": {},
   "outputs": [],
   "source": [
    "# initialize substrate and superstrate\n",
    "substrate = objects.ThinFilm(\n",
    "    period=struct[\"nd_period_x\"], period_y=struct[\"nd_period_y\"], height_nm=\"semi_inf\", material=mats[struct[\"sub_mat\"]], loss=struct[\"sub_loss\"]\n",
    ")\n",
    "superstrate = objects.ThinFilm(\n",
    "    period=struct[\"nd_period_x\"], period_y=struct[\"nd_period_y\"], height_nm=\"semi_inf\", material=mats[struct[\"sup_mat\"]], loss=struct[\"sup_loss\"]\n",
    ")\n",
    "\n",
    "# initialize nanodisk array layer\n",
    "NDs = objects.NanoStruct(\n",
    "    struct['periodicity'],  # 1d or 2d periodicity\n",
    "    struct[\"nd_period_x\"],  # structure period, in only one period, then square lattice\n",
    "    2.0 * struct[\"nd_radius\"],  # diameter of the inclusion\n",
    "    period_y=struct[\"nd_period_y\"],  # period along y axis\n",
    "    height_nm=struct[\"nd_height\"],  # nanostructured layer thickness\n",
    "    inclusion_a=mats[struct[\"nd_inc_mat\"]],  # composition of the inclusion (Au)\n",
    "    background=mats[struct[\"nd_back_mat\"]],  # composition of the background (Air)\n",
    "    loss=struct['nd_loss'],  # Loss flag, to decide if we include losses in the computation\n",
    "    inc_shape=struct['inc_shape'],  # shape of the inclusion\n",
    "    plotting_fields=emu['plotting_fields'],  # we preserve the eigenmodes to plot the fields?\n",
    "    make_mesh_now=emu['make_mesh_now'],  # are we making the mesh now or not?\n",
    "    force_mesh=emu['force_mesh'],  # are we making the mesh even if one already exists?\n",
    "    lc_bkg=emu['lc_bkg'],  # mesh general finesse\n",
    "    lc2=emu['lc2'],  # first level of mesh refinement\n",
    "    lc3=emu['lc3'],  # second level of mesh refinement\n",
    ")\n",
    "\n"
   ]
  },
  {
   "cell_type": "markdown",
   "metadata": {},
   "source": [
    "#### Spectral computation\n",
    "Now we build functions that:\n",
    "- takes and incident field, i.e. and object.Light as input\n",
    "- solves for the mode in each layer, where the FEM solver works in the nanostructured layer\n",
    "- builds a stack with the solver layer, in the order bottom -> top\n",
    "- returns the stack\n",
    "- take the returned stack as input and compute R,T,A spectra as output\n",
    "\n",
    "Then we run a calculation solving the problem at each wavelength"
   ]
  },
  {
   "cell_type": "code",
   "execution_count": null,
   "metadata": {},
   "outputs": [],
   "source": [
    "# EMUstack Function\n",
    "def simulate_stack(light):\n",
    "\n",
    "    # evaluate each layer individually\n",
    "    sim_NDs = NDs.calc_modes(light)  # solving the eigenproblem for the nanodisk layer\n",
    "    sim_superstrate = superstrate.calc_modes(light)  # solving the plane wave problem for the superstrate\n",
    "    sim_substrate = substrate.calc_modes(light)  # solving the plane wave problem for the substrate\n",
    "\n",
    "    # build the stack with the solved layers and return it\n",
    "    stackSub = Stack((sim_substrate, sim_NDs, sim_superstrate))\n",
    "\n",
    "    return stackSub\n",
    "\n",
    "\n",
    "def rta_spectra(stacks_list, pol=\"TE\"):\n",
    "\n",
    "    # create empty lists to store the partial results\n",
    "    a_list = []\n",
    "    t_list = []\n",
    "    r_list = []\n",
    "    # iterate over all the stacks to extract the results\n",
    "    for stack in stacks_list:\n",
    "        stack.calc_scat(pol = pol)\n",
    "        a_list.extend(stack.a_list)\n",
    "        t_list.extend(stack.t_list)\n",
    "        r_list.extend(stack.r_list)\n",
    "\n",
    "    # extract the total results\n",
    "    layers_steps = len(stacks_list[0].layers) - 1\n",
    "    a_tot      = []\n",
    "    t_tot      = []\n",
    "    r_tot      = []\n",
    "    for i in range(len(stacks_list)):\n",
    "        a_tot.append(float(a_list[layers_steps-1+(i*layers_steps)]))\n",
    "        t_tot.append(float(t_list[layers_steps-1+(i*layers_steps)]))\n",
    "        r_tot.append(float(r_list[i]))\n",
    "\n",
    "    return np.array(r_tot),np.array(t_tot),np.array(a_tot)"
   ]
  },
  {
   "cell_type": "markdown",
   "metadata": {},
   "source": [
    "## Compute map and write to text file"
   ]
  },
  {
   "cell_type": "code",
   "execution_count": null,
   "metadata": {},
   "outputs": [],
   "source": [
    "# build output filename\n",
    "now = datetime.now()  # what time is it?\n",
    "timestamp = now.strftime(\"%d%m%y_%H%M%S\")  # build timestamp string as day,month,year _ hour,minute,second\n",
    "out_filename = (\"EMU_AuNdArraySpectra_\" + struct[\"inc_shape\"] + \"_px\" +\n",
    "                str(struct[\"nd_period_x\"]) + \"_py\" +\n",
    "                str(struct[\"nd_period_y\"]) + \"_r\" + str(struct[\"nd_radius\"]) +\n",
    "                \"_h\" + str(struct[\"nd_height\"]) + \"_\" + timestamp)\n",
    "\n",
    "# write header and open file\n",
    "line0='# number of layers = %d, superstrate_material = %s \\n'  %(struct['n_layers'], struct['sup_mat'])\n",
    "line1='# film_material (patterned) = %s, film_nm= %10.5f \\n'  %(struct['nd_inc_mat'], struct['nd_height'])\n",
    "line4='# substrate_material = %s \\n'  %(struct['sub_mat'])\n",
    "line5='# lattice= %s, period= %8.3f,  period_y= %8.3f  \\n'  %(struct['periodicity'], struct['nd_period_x'], struct['nd_period_y'])\n",
    "#line6='# radius1= %10.5f,  radius2= %10.5f, hole_rotation_deg= %10.5f, azimuthal angle phi= %10.5f  \\n'   \\\n",
    "#             %(radius1, radius2, hole_rotation_deg, phi)\n",
    "line6='# radius1= %10.5f \\n' %(struct['nd_radius'])\n",
    "line7='# max_order_PWs= %5d \\n'  %(light['max_order_PWs'])\n",
    "line8='# make_mesh_now= %s, force_mesh= %s, lc_bkg= %8.3f, lc2= %8.3f, lc3= %8.3f  \\n' %(emu['make_mesh_now'], emu['force_mesh'], emu['lc_bkg'], emu['lc2'], emu['lc3'])\n",
    "line9='# lambda   theta  r_te t_te a_te r_tm t_tm a_tm r_cd t_cd a_cd r_rc t_rc a_rc r_lc t_lc a_lc  \\n'\n",
    "header=line0+line1+line4+line5+line6+line7+line8+line9\n",
    "\n",
    "f=open(out_filename + '.out','w')\n",
    "f.write(header);"
   ]
  },
  {
   "cell_type": "code",
   "execution_count": null,
   "metadata": {},
   "outputs": [],
   "source": [
    "# executor distributes the computation on all the available cores\n",
    "v_theta = np.linspace(light['theta_min'], light['theta_max'], light['n_theta'])\n",
    "for theta in v_theta:\n",
    "\n",
    "    # build incident light object\n",
    "    light_list = [\n",
    "        objects.Light(wl,\n",
    "                      max_order_PWs=light['max_order_PWs'],\n",
    "                      theta=theta,\n",
    "                      phi=light['phi']) for wl in v_wl\n",
    "    ]\n",
    "\n",
    "    # compute solution for given angle\n",
    "    with concurrent.futures.ProcessPoolExecutor() as executor:\n",
    "        stacks_list = list(executor.map(simulate_stack, light_list))\n",
    "\n",
    "    # compute R,T,A for all polarizations\n",
    "    v_R_te, v_T_te, v_A_te = rta_spectra(stacks_list, pol='TE')\n",
    "    v_R_tm, v_T_tm, v_A_tm = rta_spectra(stacks_list, pol='TM')\n",
    "    v_R_r, v_T_r, v_A_r = rta_spectra(stacks_list, pol='R Circ')\n",
    "    v_R_l, v_T_l, v_A_l = rta_spectra(stacks_list, pol='L Circ')\n",
    "    v_R_cd = (v_R_l - v_R_r) / (v_R_l + v_R_r)\n",
    "    v_T_cd = (v_T_l - v_T_r) / (v_T_l + v_T_r)\n",
    "    v_A_cd = (v_A_l - v_A_r) / (v_A_l + v_A_r)\n",
    "    # loop over wavelength to write all lines\n",
    "    for i_wl, wl in enumerate(v_wl):\n",
    "\n",
    "        f.write(' %10.5f %8.5f %8.5f   %8.5f %8.5f %8.5f  %8.5f %8.5f %8.5f  %8.5f %8.5f %8.5f  %8.5f %8.5f %8.5f  %8.5f %8.5f %8.5f \\n' \\\n",
    "        %(wl, theta, light['phi'], v_R_te[i_wl], v_T_te[i_wl],  v_A_te[i_wl], v_R_tm[i_wl], v_T_tm[i_wl], v_A_tm[i_wl], \\\n",
    "        v_R_cd[i_wl], v_T_cd[i_wl],  v_A_cd[i_wl], v_R_r[i_wl], v_T_r[i_wl], v_A_r[i_wl], v_R_l[i_wl], v_T_l[i_wl], v_A_l[i_wl] ) )\n",
    "\n",
    "# write new line and close file\n",
    "f.write('\\n')\n",
    "f.close()"
   ]
  }
 ],
 "metadata": {
  "interpreter": {
   "hash": "c76d8be8ff8db75ac82c0a56469940f153bb76f9e9839ea54774f5a675a4465e"
  },
  "kernelspec": {
   "display_name": "Python 3.8.12 ('nomkl')",
   "language": "python",
   "name": "python3"
  },
  "language_info": {
   "codemirror_mode": {
    "name": "ipython",
    "version": 3
   },
   "file_extension": ".py",
   "mimetype": "text/x-python",
   "name": "python",
   "nbconvert_exporter": "python",
   "pygments_lexer": "ipython3",
   "version": "3.8.12"
  },
  "orig_nbformat": 4
 },
 "nbformat": 4,
 "nbformat_minor": 2
}

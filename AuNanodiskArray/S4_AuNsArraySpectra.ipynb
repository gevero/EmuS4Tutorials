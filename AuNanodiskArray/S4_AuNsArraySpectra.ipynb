{
 "cells": [
  {
   "cell_type": "markdown",
   "metadata": {},
   "source": [
    "#### General Code Setup\n",
    "As a first step we:\n",
    "- Import all the necessary libraries for our computation\n",
    "- Setup some folders for the loading and saving of all necessary files and to run correctly EMUstack"
   ]
  },
  {
   "cell_type": "markdown",
   "metadata": {},
   "source": [
    "#### Libraries imported\n",
    "- [os](https://docs.python.org/3/library/os.html): used to setup some folder to run correctly the code\n",
    "- [sys](https://docs.python.org/3/library/sys.html): used to make EMUstack accessible\n",
    "- [numpy](https://numpy.org/): essentially matlab for python. We use it to manipulate matrix data\n",
    "- [concurrent.futures](https://docs.python.org/3/library/concurrent.futures.html): to run the code in parallel\n",
    "- [xarray](https://docs.xarray.dev/en/stable/): library to save labelled data along with the relevant metadata (important for reproducibility)\n",
    "- [datetime](https://docs.python.org/3/library/datetime.html): we use it to create a timestamp for the saved files"
   ]
  },
  {
   "cell_type": "code",
   "execution_count": 9,
   "metadata": {},
   "outputs": [],
   "source": [
    "# libraries\n",
    "import os\n",
    "import numpy as np\n",
    "import sys\n",
    "import concurrent.futures\n",
    "import xarray as xr\n",
    "from datetime import datetime\n",
    "\n",
    "# folder setup\n",
    "home_dir = os.environ[\"HOME\"]  # home folder\n",
    "script_dir = os.getcwd()  # running file folder\n",
    "s4_dir = [s for s in os.listdir(home_dir + '/programs/S4/build/') if \"lib.linux\" in s][0]  # S4 library subfolder\n",
    "utils_dir = '../'  # folder for utilities\n",
    "materials_dir = '../materials/'  # folder for material files"
   ]
  },
  {
   "cell_type": "markdown",
   "metadata": {},
   "source": [
    "#### Import S4\n",
    "In order to correctly load all the components of S4 we:\n",
    "- make the S4 folder accessible\n",
    "- load the S4 module\n",
    "- load some utilities to handle the optical constants, because S4 does not have a builting feature for this"
   ]
  },
  {
   "cell_type": "code",
   "execution_count": 10,
   "metadata": {},
   "outputs": [],
   "source": [
    "# importing S4\n",
    "sys.path.append(home_dir + '/programs/S4/build/' + s4_dir)\n",
    "sys.path.append(utils_dir)\n",
    "import S4\n",
    "import utils"
   ]
  },
  {
   "cell_type": "code",
   "execution_count": 11,
   "metadata": {},
   "outputs": [],
   "source": [
    "# building the optical constant database\n",
    "eps_db_out=utils.generate_eps_db(materials_dir,ext='*.edb')  # generates a dictionary with files, eps names and a dictionary containg everything\n",
    "eps_files,eps_names,eps_db=eps_db_out['eps_files'],eps_db_out['eps_names'],eps_db_out['eps_db']  # separate the 3 outputs"
   ]
  },
  {
   "cell_type": "markdown",
   "metadata": {},
   "source": [
    "#### Defining the inputs\n",
    "We are going to calculate the transmission and reflectance spectrum of a Gold Nanodisk array. To do so we need to define the following groups of input parameters:\n",
    "- **Geometrical parameters** of our multilayers, including thicknesses, disk size, etc...\n",
    "- **Material parameters** such as the composition of each layer, substrate and superstrate included\n",
    "- **Illumination parameters**, i.e. wavelengths, angles and polarizations of the incident field\n",
    "- **S4 parameters**, i.e. parameters that are strictly connected with the inner workings of S4\n",
    "\n",
    "We will try to store all these input parameters inside [dictionaries](https://docs.python.org/3/tutorial/datastructures.html#dictionaries), so that they can be handily exported later in order to improve the riproducibility of our calculations"
   ]
  },
  {
   "cell_type": "code",
   "execution_count": 12,
   "metadata": {},
   "outputs": [],
   "source": [
    "# light dictionary\n",
    "light = {}\n",
    "light['wl_min'] = 400.0  # minimum spectral wavelength\n",
    "light['wl_max'] = 800.0  # maximum spectral wavelength\n",
    "light['n_wl'] = 80  # spectral points\n",
    "light['theta'] = 0.0\n",
    "light['phi'] = 0.0\n",
    "light['pol'] = [0.0,1.0]  # s and p polarization amplitudes\n",
    "light['NumBasis'] = 100  # number of plane waves\n",
    "\n",
    "# Geometrical parameters\n",
    "struct = {}\n",
    "# nanodisk array parameters\n",
    "struct['inc_shape'] = 'circle'  # flag to log the shape of the inclusion\n",
    "struct['nd_radius'] = 100.0  # nanodisk radius\n",
    "struct['nd_height'] = 100.0  # nanodisk height\n",
    "struct['nd_period_x'] = 600.0  # nanodisk array x period\n",
    "struct['nd_period_y'] = 600.0  # nanodisk array y period\n",
    "struct['nd_inc_mat'] = 'e_au'  # nanodisk material\n",
    "struct['nd_back_mat'] = 'e_vacuum'  # background material in the nanodisk array\n",
    "# superstrate and substrate parameters\n",
    "struct['sub_mat'] = 'e_vacuum'  # substrate material\n",
    "struct['sup_mat'] = 'e_vacuum'  # superstrate material\n",
    "struct['materials_stack'] = [struct[\"sup_mat\"], struct[\"nd_inc_mat\"], struct[\"sub_mat\"]]\n",
    "\n",
    "# Emustack parameters\n",
    "s4 = {}\n",
    "s4['PolarizationDecomposition'] = True  # are we using fast fourier factorization\n",
    "s4['PolarizationBasis'] = 'Jones'  # which kind of fast fourier factorization?\n",
    "\n",
    "# auxiliary vectors\n",
    "v_wl = np.linspace(light['wl_min'], light['wl_max'], light['n_wl'])  # auxiliary wavelength vector"
   ]
  },
  {
   "cell_type": "markdown",
   "metadata": {},
   "source": [
    "#### Build the S4 stack\n",
    "In S4 you initialize a whole **S** object, which containts all the informations necessary for the computation, including:\n",
    "- Incident plane wave, energy, direction, polarization, and number of **G** orders included\n",
    "- Formal definition of the materials\n",
    "- Information on all the layers, nanostructured or not, from top to bottom\n",
    "- Computational informations, such as fast fourier factorization, etc..."
   ]
  },
  {
   "cell_type": "code",
   "execution_count": 13,
   "metadata": {},
   "outputs": [],
   "source": [
    "# initialize s4 lattice, including the number of plane waves\n",
    "S = S4.New(Lattice=((struct[\"nd_period_x\"], 0), (0, struct[\"nd_period_y\"])), NumBasis=light[\"NumBasis\"])\n",
    "\n",
    "# retrieving optical constants at wl from the database\n",
    "e_list = np.array(utils.db_to_eps(light['wl_min'], eps_db, struct['materials_stack']))\n",
    "\n",
    "# Define the materias inside the S4 formalism: the materials are complex dielectric functions\n",
    "S.SetMaterial(\"Air\", e_list[0])\n",
    "S.SetMaterial(\"Au\", e_list[1])\n",
    "\n",
    "# Add the incident medium layer\n",
    "S.AddLayer(\"Inc\", 0.0, \"Air\")  # Add layer with a Name, a Thickness and a Composition\n",
    "\n",
    "# Add the Nanostructured layer\n",
    "S.AddLayer(\"Slab\", struct[\"nd_height\"], \"Air\")\n",
    "S.SetRegionCircle(\"Slab\", \"Au\", (0.0, 0.0), struct[\"nd_radius\"])\n",
    "\n",
    "# Substrate\n",
    "S.AddLayer(\"Sub\", 0.0, \"Air\")\n",
    "\n",
    "# incident wave + computing options\n",
    "S.SetExcitationPlanewave((light[\"theta\"], light[\"phi\"]), light[\"pol\"][0], light[\"pol\"][1])\n",
    "S.SetFrequency(1.0/light['wl_min'])  # frequency as reciprocal of the utilized wavelength)\n",
    "S.SetOptions(PolarizationDecomposition=s4[\"PolarizationDecomposition\"], PolarizationBasis=s4[\"PolarizationBasis\"])\n",
    "\n"
   ]
  },
  {
   "cell_type": "markdown",
   "metadata": {},
   "source": [
    "#### Spectral computation\n",
    "Now we build functions that:\n",
    "- takes a wavelength as input\n",
    "- updates the energy of the incident plane wave\n",
    "- updates the materials for the new wavelength\n",
    "- calcolates the power fluxes at the top and bottom to computer R,T,A and return them\n",
    "\n",
    "Then we run a calculation solving the problem at each wavelength"
   ]
  },
  {
   "cell_type": "code",
   "execution_count": 14,
   "metadata": {},
   "outputs": [],
   "source": [
    "# R, T and A computation at given wavelength\n",
    "def rta(wl):\n",
    "    \n",
    "    # setup new incident wave\n",
    "    S.SetExcitationPlanewave((light[\"theta\"], light[\"phi\"]),1.0/np.sqrt(2.0),-1.0j/np.sqrt(2.0))\n",
    "    S.SetFrequency(1.0/(wl))\n",
    "    \n",
    "    # update materials\n",
    "    e_list=np.array(utils.db_to_eps(wl,eps_db,struct['materials_stack']))\n",
    "    S.SetMaterial('Air',e_list[0])\n",
    "    S.SetMaterial('Au',e_list[1])\n",
    "\n",
    "    # compute power fluxes\n",
    "    forw_1,back_1 = S.GetPowerFlux(Layer = 'Inc', zOffset = 0)\n",
    "    forw_2,back_2 = S.GetPowerFlux(Layer = 'Sub', zOffset = 0)\n",
    "\n",
    "    # compute transmittance and reflectance\n",
    "    R = np.abs(back_1/forw_1)\n",
    "    T = np.abs(forw_2/forw_1)\n",
    "    A = 1 - R - T\n",
    "    \n",
    "    return R,T,A"
   ]
  },
  {
   "cell_type": "code",
   "execution_count": 15,
   "metadata": {},
   "outputs": [],
   "source": [
    "# spectra parallel computation\n",
    "with concurrent.futures.ProcessPoolExecutor() as executor:\n",
    "    v_R,v_T,v_A = np.array(list(executor.map(rta, v_wl))).T"
   ]
  },
  {
   "cell_type": "code",
   "execution_count": 16,
   "metadata": {},
   "outputs": [],
   "source": [
    "# build output filename\n",
    "now = datetime.now()  # what time is it?\n",
    "timestamp = now.strftime(\"%d%m%y_%H%M%S\")  # build timestamp string as day,month,year _ hour,minute,second\n",
    "out_filename = (\n",
    "    \"S4_AuNdArraySpectra_\"\n",
    "    + struct[\"inc_shape\"]\n",
    "    + \"_px\"\n",
    "    + str(struct[\"nd_period_x\"])\n",
    "    + \"_py\"\n",
    "    + str(struct[\"nd_period_y\"])\n",
    "    + \"_r\"\n",
    "    + str(struct[\"nd_radius\"])\n",
    "    + \"_h\"\n",
    "    + str(struct[\"nd_height\"])\n",
    "    + \"_\"\n",
    "    + timestamp\n",
    ")\n",
    "\n",
    "# save data to xarray for future use\n",
    "s4_spectra = xr.DataArray(\n",
    "    np.column_stack((v_R, v_T, v_A)), coords=[v_wl, [\"R\", \"T\", \"A\"]], dims=[\"wavelength\", \"spectrum\"]\n",
    ")\n",
    "s4_spectra.attrs[\"light\"] = str(light)\n",
    "s4_spectra.attrs[\"struct\"] = str(struct)\n",
    "s4_spectra.attrs[\"s4\"] = str(s4)\n",
    "s4_spectra.to_netcdf(\"data/\" + out_filename + \".nc\")\n",
    "\n"
   ]
  },
  {
   "cell_type": "code",
   "execution_count": null,
   "metadata": {},
   "outputs": [],
   "source": []
  }
 ],
 "metadata": {
  "interpreter": {
   "hash": "c76d8be8ff8db75ac82c0a56469940f153bb76f9e9839ea54774f5a675a4465e"
  },
  "kernelspec": {
   "display_name": "Python 3.8.12 ('nomkl')",
   "language": "python",
   "name": "python3"
  },
  "language_info": {
   "codemirror_mode": {
    "name": "ipython",
    "version": 3
   },
   "file_extension": ".py",
   "mimetype": "text/x-python",
   "name": "python",
   "nbconvert_exporter": "python",
   "pygments_lexer": "ipython3",
   "version": "3.8.12"
  },
  "orig_nbformat": 4
 },
 "nbformat": 4,
 "nbformat_minor": 2
}

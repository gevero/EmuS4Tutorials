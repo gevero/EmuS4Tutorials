{
 "cells": [
  {
   "cell_type": "markdown",
   "metadata": {},
   "source": [
    "#### General Code Setup\n",
    "As a first step we:\n",
    "- Import all the necessary libraries for our computation\n",
    "- Setup some folders for the loading and saving of all necessary files and to run correctly EMUstack"
   ]
  },
  {
   "cell_type": "markdown",
   "metadata": {},
   "source": [
    "#### Libraries imported\n",
    "- [os](https://docs.python.org/3/library/os.html): used to setup some folder to run correctly the code\n",
    "- [sys](https://docs.python.org/3/library/sys.html): used to make EMUstack accessible\n",
    "- [numpy](https://numpy.org/): essentially matlab for python. We use it to manipulate matrix data\n",
    "- [concurrent.futures](https://docs.python.org/3/library/concurrent.futures.html): to run the code in parallel\n",
    "- [xarray](https://docs.xarray.dev/en/stable/): library to save labelled data along with the relevant metadata (important for reproducibility)\n",
    "- [datetime](https://docs.python.org/3/library/datetime.html): we use it to create a timestamp for the saved file"
   ]
  },
  {
   "cell_type": "code",
   "execution_count": 32,
   "metadata": {},
   "outputs": [],
   "source": [
    "# libraries\n",
    "import os\n",
    "import numpy as np\n",
    "import sys\n",
    "import concurrent.futures\n",
    "import xarray as xr\n",
    "from datetime import datetime\n",
    "\n",
    "# folder setup\n",
    "home_dir = os.environ[\"HOME\"]  # home folder\n",
    "script_dir = os.getcwd()  # running file folder"
   ]
  },
  {
   "cell_type": "markdown",
   "metadata": {},
   "source": [
    "#### Import EMUstack\n",
    "In order to correctly load all the components of EMUstack we:\n",
    "- make the EMUstack folder accessible\n",
    "- load the EMUstack paths module to define the working folders\n",
    "- load all the other EMUstack modules"
   ]
  },
  {
   "cell_type": "code",
   "execution_count": 33,
   "metadata": {},
   "outputs": [],
   "source": [
    "# setup EMUstack paths\n",
    "sys.path.append(home_dir + \"/programs/EMUstack/backend/\")  # makes EMUstack accessible\n",
    "import paths\n",
    "paths.backend_path = home_dir + \"/programs/EMUstack/backend/\"  # location of EMUstack \"engine\"\n",
    "paths.data_path = home_dir + \"/programs/EMUstack/backend/data/\"  # location of material files\n",
    "paths.msh_path = script_dir + \"/msh/\"  # folder where we save the mesh files\n",
    "paths.template_path = home_dir + \"/programs/EMUstack/backend/fortran/msh/\"  # folder containing the mesh templates\n",
    "\n",
    "# import emustack\n",
    "import objects  # EMUstack incident field and layer structures\n",
    "import materials  # EMUstack available material library\n",
    "import plotting  # EMUstack plotting routins\n",
    "from stack import Stack  # EMUstack multilayer structures"
   ]
  },
  {
   "cell_type": "markdown",
   "metadata": {},
   "source": [
    "#### Defining the inputs\n",
    "We are going to calculate the transmission and reflectance spectrum of a Gold Nanodisk array. To do so we need to define the following groups of input parameters:\n",
    "- **Geometrical parameters** of our multilayers, including thicknesses, disk size, etc...\n",
    "- **Material parameters** such as the composition of each layer, substrate and superstrate included\n",
    "- **Illumination parameters**, i.e. wavelengths, angles and polarizations of the incident field\n",
    "- **EMUstack parameters**, i.e. parameters that are strictly connected with the inner workings of EMUstack\n",
    "\n",
    "We will try to store all these input parameters inside [dictionaries](https://docs.python.org/3/tutorial/datastructures.html#dictionaries), so that they can be handily exported later in order to improve the riproducibility of our calculations"
   ]
  },
  {
   "cell_type": "code",
   "execution_count": 34,
   "metadata": {},
   "outputs": [],
   "source": [
    "# light dictionary\n",
    "light = {}\n",
    "light['theta'] = 0.0\n",
    "light['phi'] = 0.0\n",
    "light['pol'] = 'TM'\n",
    "light['max_order_PWs'] = 2  # number of plane waves\n",
    "\n",
    "# materials dictionary\n",
    "mats = {}\n",
    "mats['Au'] = materials.Au\n",
    "mats['Air'] = materials.Air\n",
    "\n",
    "# Geometrical parameters\n",
    "struct = {}\n",
    "# nanodisk array parameters\n",
    "struct['periodicity'] = \"2D_array\"  # we are modeling a 1d array (EMU)\n",
    "struct['inc_shape'] = 'circle'  # nanodisks -> so we choose the circle shape (EMU)\n",
    "struct['nd_radius'] = 100.0  # nanodisk radius\n",
    "struct['nd_height'] = 100.0  # nanodisk height\n",
    "struct['nd_period_x'] = 600.0  # nanodisk array x period\n",
    "struct['nd_period_y'] = 600.0  # nanodisk array y period\n",
    "struct['nd_inc_mat'] = mats['Au']  # nanodisk material\n",
    "struct['nd_back_mat'] = mats['Air']  # background material in the nanodisk array\n",
    "struct['nd_loss'] = True  # we must include losses in the computation (EMU)\n",
    "# superstrate and substrate parameters\n",
    "struct['sub_mat'] = mats['Air']  # substrate material\n",
    "struct['sup_mat'] = mats['Air']  # superstrate material\n",
    "struct['sub_loss'] = False  # no losses in the substrate (EMU)\n",
    "struct['sup_loss'] = False  # no losses in the superstrate (EMU)\n",
    "\n",
    "# Emustack parameters\n",
    "emu = {}\n",
    "emu['plotting_fields'] = True  # Now WE DO WANT to plot the fields in this case \n",
    "emu['make_mesh_now'] = True  # we make the mesh, otherwise we must provide one with a filename\n",
    "emu['force_mesh'] = True  # create mesh even if one already exist\n",
    "emu['lc_bkg'] = 0.15  # background mesh finesse\n",
    "emu['lc2'] = 2.0  # first mesh refinement\n",
    "emu['lc3'] = 2.0  # second mesh refinement"
   ]
  },
  {
   "cell_type": "markdown",
   "metadata": {},
   "source": [
    "#### Load spectral data\n",
    "We load the spectra data. We then take the wavelength of maximum reflectance to compute the local fields"
   ]
  },
  {
   "cell_type": "code",
   "execution_count": 35,
   "metadata": {},
   "outputs": [],
   "source": [
    "emu_spectra = xr.load_dataarray('data/EMU_AuNdArraySpectra_circle_px600.0_py400.0_r100.0_h100.0_180222_121902.nc')  # load the spectral data\n",
    "wl_index = emu_spectra.sel(spectrum='R').argmax().item()  # find the index where the reflectance is maximum\n",
    "light['wl'] = emu_spectra.coords['wavelength'][wl_index].item()  # get the wavelength of maximum reflactance\n",
    "light_wl = objects.Light(light['wl'], max_order_PWs=light['max_order_PWs'], theta=light['theta'], phi=light['phi'])  # create and EMUstack incident light object at the correct wavelength"
   ]
  },
  {
   "cell_type": "markdown",
   "metadata": {},
   "source": [
    "#### Initialize the single layers\n",
    "In EMUstack each layer is initialized (and solved) separately and the solution is not influenced by its position inside the stack. There are two kind of layers:\n",
    "- ThinFilm: layer that are not nanostructured and are simple to initialize\n",
    "- NanoStruct: patterned layers which need more parameters to be initialized"
   ]
  },
  {
   "cell_type": "code",
   "execution_count": 36,
   "metadata": {},
   "outputs": [],
   "source": [
    "# initialize substrate and superstrate\n",
    "substrate = objects.ThinFilm(\n",
    "    period=struct[\"nd_period_x\"], period_y=struct[\"nd_period_y\"], height_nm=\"semi_inf\", material=struct[\"sub_mat\"], loss=struct[\"sub_loss\"]\n",
    ")\n",
    "superstrate = objects.ThinFilm(\n",
    "    period=struct[\"nd_period_x\"], period_y=struct[\"nd_period_y\"], height_nm=\"semi_inf\", material=struct[\"sup_mat\"], loss=struct[\"sup_loss\"]\n",
    ")\n",
    "\n",
    "# initialize nanodisk array layer\n",
    "NDs = objects.NanoStruct(\n",
    "    struct['periodicity'],  # 1d or 2d periodicity\n",
    "    struct[\"nd_period_x\"],  # structure period, in only one period, then square lattice\n",
    "    2.0 * struct[\"nd_radius\"],  # diameter of the inclusion\n",
    "    period_y=struct[\"nd_period_y\"],  # period along y axis\n",
    "    height_nm=struct[\"nd_height\"],  # nanostructured layer thickness\n",
    "    inclusion_a=struct[\"nd_inc_mat\"],  # composition of the inclusion (Au)\n",
    "    background=struct[\"nd_back_mat\"],  # composition of the background (Air)\n",
    "    loss=struct['nd_loss'],  # Loss flag, to decide if we include losses in the computation\n",
    "    inc_shape=struct['inc_shape'],  # shape of the inclusion\n",
    "    plotting_fields=emu['plotting_fields'],  # we preserve the eigenmodes to plot the fields?\n",
    "    make_mesh_now=emu['make_mesh_now'],  # are we making the mesh now or not?\n",
    "    force_mesh=emu['force_mesh'],  # are we making the mesh even if one already exists?\n",
    "    lc_bkg=emu['lc_bkg'],  # mesh general finesse\n",
    "    lc2=emu['lc2'],  # first level of mesh refinement\n",
    "    lc3=emu['lc3'],  # second level of mesh refinement\n",
    ")\n",
    "\n"
   ]
  },
  {
   "cell_type": "markdown",
   "metadata": {},
   "source": [
    "#### LF computation\n",
    "Now we build functions that:\n",
    "- takes and incident field, i.e. and object.Light as input\n",
    "- solves for the mode in each layer, where the FEM solver works in the nanostructured layer\n",
    "- builds a stack with the solver layer, in the order bottom -> top\n",
    "- returns the stack\n",
    "- take the returned stack as input and compute the local field input"
   ]
  },
  {
   "cell_type": "code",
   "execution_count": 37,
   "metadata": {},
   "outputs": [],
   "source": [
    "# EMUstack Function\n",
    "def simulate_stack(light):\n",
    "\n",
    "    # evaluate each layer individually\n",
    "    sim_NDs = NDs.calc_modes(light)  # solving the eigenproblem for the nanodisk layer\n",
    "    sim_superstrate = superstrate.calc_modes(light)  # solving the plane wave problem for the superstrate\n",
    "    sim_substrate = substrate.calc_modes(light)  # solving the plane wave problem for the substrate\n",
    "\n",
    "    # build the stack with the solved layers and return it\n",
    "    stackSub = Stack((sim_substrate, sim_NDs, sim_superstrate))\n",
    "\n",
    "    return stackSub\n",
    "\n",
    "\n",
    "def lf(stack, pol=\"TE\", z=0.0, n_points=500, lay_interest=1):\n",
    "\n",
    "    # explicitly compute the solution for the given polarization\n",
    "    stack.calc_scat(pol = pol)\n",
    "\n",
    "    # compute the fields interpolator in the layer of interest, at the height of interest\n",
    "    ReEx, ImEx, ReEy, ImEy, ReEz, ImEz, AbsE = plotting.fields_interpolator_in_plane(stack, lay_interest=1, z_value=z)\n",
    "\n",
    "    # create the x and y coordinates for the field mapping\n",
    "    n_points = 500\n",
    "    v_x = np.zeros(n_points ** 2)\n",
    "    v_y = np.zeros(n_points ** 2)\n",
    "    i = 0\n",
    "    x_min = 0.0\n",
    "    x_max = 1.0\n",
    "    y_min = -(struct[\"nd_period_y\"]/struct[\"nd_period_x\"])\n",
    "    y_max = 0.0\n",
    "    for x in np.linspace(x_min, x_max, n_points):\n",
    "        for y in np.linspace(y_min, y_max, n_points):\n",
    "            v_x[i] = x\n",
    "            v_y[i] = y\n",
    "            i += 1\n",
    "    v_x = np.array(v_x)\n",
    "    v_y = np.array(v_y)\n",
    "\n",
    "    # compute the interpolated fields over the grid\n",
    "    m_AbsE = AbsE(v_x, v_y).reshape(n_points, n_points).T\n",
    "\n",
    "    return m_AbsE\n",
    "\n"
   ]
  },
  {
   "cell_type": "code",
   "execution_count": 38,
   "metadata": {},
   "outputs": [],
   "source": [
    "# simulate the single stack at the correct wavelength\n",
    "stack_wl = simulate_stack(light_wl)"
   ]
  },
  {
   "cell_type": "code",
   "execution_count": 39,
   "metadata": {},
   "outputs": [],
   "source": [
    "# compute the solution at the single good wavelength\n",
    "m_AbsE = lf(stack_wl,pol = light['pol'],z = 0.5 *struct['nd_height'])"
   ]
  },
  {
   "cell_type": "markdown",
   "metadata": {},
   "source": [
    "#### Saving data and metadata\n",
    "We recast all the data in a format suitable for saving. We also save all the computation parameters as metadata, in order to make the computation of the spectrum reproducible"
   ]
  },
  {
   "cell_type": "code",
   "execution_count": 40,
   "metadata": {},
   "outputs": [],
   "source": [
    "# build output filename\n",
    "now = datetime.now()  # what time is it?\n",
    "timestamp = now.strftime(\"%d%m%y_%H%M%S\")  # build timestamp string as day,month,year _ hour,minute,second\n",
    "out_filename = (\n",
    "    \"EMU_AuNdArrayLF_\"\n",
    "    + struct[\"inc_shape\"]\n",
    "    + \"_px\"\n",
    "    + str(struct[\"nd_period_x\"])\n",
    "    + \"_py\"\n",
    "    + str(struct[\"nd_period_y\"])\n",
    "    + \"_r\"\n",
    "    + str(struct[\"nd_radius\"])\n",
    "    + \"_h\"\n",
    "    + str(struct[\"nd_height\"])\n",
    "    + \"_\"\n",
    "    + timestamp\n",
    ")\n",
    "\n",
    "# create vector to map x and y coords\n",
    "v_coords_x = np.linspace(0.0,struct['nd_period_x'],500)\n",
    "v_coords_y = np.linspace(0.0,struct['nd_period_y'],500)\n",
    "# save the data as in the case of the spectra\n",
    "emu_lf = xr.DataArray(m_AbsE, coords=[v_coords_y,v_coords_x], dims=[\"y\", \"x\"])\n",
    "emu_lf.attrs['light'] = str(light)\n",
    "emu_lf.attrs['struct'] = str(struct)\n",
    "emu_lf.attrs['emu'] = str(emu)\n",
    "emu_lf.attrs['mats'] = str(mats)\n",
    "emu_lf.to_netcdf('data/' + out_filename +  '.nc')"
   ]
  },
  {
   "cell_type": "code",
   "execution_count": null,
   "metadata": {},
   "outputs": [],
   "source": []
  }
 ],
 "metadata": {
  "interpreter": {
   "hash": "c76d8be8ff8db75ac82c0a56469940f153bb76f9e9839ea54774f5a675a4465e"
  },
  "kernelspec": {
   "display_name": "Python 3.8.12 ('nomkl')",
   "language": "python",
   "name": "python3"
  },
  "language_info": {
   "codemirror_mode": {
    "name": "ipython",
    "version": 3
   },
   "file_extension": ".py",
   "mimetype": "text/x-python",
   "name": "python",
   "nbconvert_exporter": "python",
   "pygments_lexer": "ipython3",
   "version": "3.8.12"
  },
  "orig_nbformat": 4
 },
 "nbformat": 4,
 "nbformat_minor": 2
}

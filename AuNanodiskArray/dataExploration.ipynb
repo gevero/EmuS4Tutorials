{
 "cells": [
  {
   "cell_type": "markdown",
   "metadata": {},
   "source": [
    "## Loading and comparing EMUstack and S4 data."
   ]
  },
  {
   "cell_type": "markdown",
   "metadata": {},
   "source": [
    "#### Load libraries"
   ]
  },
  {
   "cell_type": "code",
   "execution_count": null,
   "metadata": {},
   "outputs": [],
   "source": [
    "# libraries\n",
    "import numpy as np\n",
    "import xarray as xr\n",
    "\n",
    "# matplotlib, the python plotting library: inline makes the plot appear in the notebook\n",
    "import matplotlib.pylab as plt\n",
    "%matplotlib inline "
   ]
  },
  {
   "cell_type": "markdown",
   "metadata": {},
   "source": [
    "#### Load data"
   ]
  },
  {
   "cell_type": "code",
   "execution_count": null,
   "metadata": {},
   "outputs": [],
   "source": [
    "emu_spectra = xr.load_dataarray('data/EMU_AuNdArraySpectra_circle_px600.0_py600.0_r100.0_h100.0_180222_175845.nc')\n",
    "emu_lf = xr.load_dataarray('data/EMU_AuNdArrayLF_circle_px600.0_py600.0_r100.0_h100.0_180222_175937.nc')\n",
    "s4_spectra = xr.load_dataarray('data/S4_AuNdArraySpectra_circle_px600.0_py600.0_r100.0_h100.0_180222_174838.nc')\n",
    "s4_lf = xr.load_dataarray('data/S4_AuNdArrayLF_circle_px600.0_py600.0_r100.0_h100.0_180222_175912.nc')"
   ]
  },
  {
   "cell_type": "markdown",
   "metadata": {},
   "source": [
    "#### Explore spectral data"
   ]
  },
  {
   "cell_type": "code",
   "execution_count": null,
   "metadata": {},
   "outputs": [],
   "source": [
    "emu_spectra.sel(spectrum='R').plot()\n",
    "s4_spectra.sel(spectrum='R').plot()"
   ]
  },
  {
   "cell_type": "code",
   "execution_count": null,
   "metadata": {},
   "outputs": [],
   "source": [
    "emu_spectra.sel(spectrum='A').plot()\n",
    "s4_spectra.sel(spectrum='A').plot()"
   ]
  },
  {
   "cell_type": "markdown",
   "metadata": {},
   "source": [
    "#### Explore local field data"
   ]
  },
  {
   "cell_type": "code",
   "execution_count": null,
   "metadata": {},
   "outputs": [],
   "source": [
    "emu_lf.plot(cmap='magma')\n",
    "plt.gca().set_aspect('equal')"
   ]
  },
  {
   "cell_type": "code",
   "execution_count": null,
   "metadata": {},
   "outputs": [],
   "source": [
    "for y in np.linspace(0,600,6):\n",
    "    emu_lf.interp(y=y).plot()"
   ]
  },
  {
   "cell_type": "code",
   "execution_count": null,
   "metadata": {},
   "outputs": [],
   "source": [
    "s4_lf.plot(cmap='magma')\n",
    "plt.gca().set_aspect('equal')"
   ]
  },
  {
   "cell_type": "code",
   "execution_count": null,
   "metadata": {},
   "outputs": [],
   "source": [
    "for y in np.linspace(0,600,6):\n",
    "    s4_lf.interp(y=y).plot()"
   ]
  },
  {
   "cell_type": "code",
   "execution_count": null,
   "metadata": {},
   "outputs": [],
   "source": []
  }
 ],
 "metadata": {
  "interpreter": {
   "hash": "c76d8be8ff8db75ac82c0a56469940f153bb76f9e9839ea54774f5a675a4465e"
  },
  "kernelspec": {
   "display_name": "Python 3.8.12 ('nomkl')",
   "language": "python",
   "name": "python3"
  },
  "language_info": {
   "codemirror_mode": {
    "name": "ipython",
    "version": 3
   },
   "file_extension": ".py",
   "mimetype": "text/x-python",
   "name": "python",
   "nbconvert_exporter": "python",
   "pygments_lexer": "ipython3",
   "version": "3.8.12"
  },
  "orig_nbformat": 4
 },
 "nbformat": 4,
 "nbformat_minor": 2
}

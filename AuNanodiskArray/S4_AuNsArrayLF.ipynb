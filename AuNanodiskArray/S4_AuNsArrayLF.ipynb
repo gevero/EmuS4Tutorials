{
 "cells": [
  {
   "cell_type": "markdown",
   "metadata": {},
   "source": [
    "#### General Code Setup\n",
    "As a first step we:\n",
    "- Import all the necessary libraries for our computation\n",
    "- Setup some folders for the loading and saving of all necessary files and to run correctly EMUstack"
   ]
  },
  {
   "cell_type": "markdown",
   "metadata": {},
   "source": [
    "#### Libraries imported\n",
    "- [os](https://docs.python.org/3/library/os.html): used to setup some folder to run correctly the code\n",
    "- [sys](https://docs.python.org/3/library/sys.html): used to make EMUstack accessible\n",
    "- [numpy](https://numpy.org/): essentially matlab for python. We use it to manipulate matrix data\n",
    "- [concurrent.futures](https://docs.python.org/3/library/concurrent.futures.html): to run the code in parallel\n",
    "- [xarray](https://docs.xarray.dev/en/stable/): library to save labelled data along with the relevant metadata (important for reproducibility)\n",
    "- [datetime](https://docs.python.org/3/library/datetime.html): we use it to create a timestamp for the saved files"
   ]
  },
  {
   "cell_type": "code",
   "execution_count": 35,
   "metadata": {},
   "outputs": [],
   "source": [
    "# libraries\n",
    "import os\n",
    "import numpy as np\n",
    "import sys\n",
    "import concurrent.futures\n",
    "import xarray as xr\n",
    "from datetime import datetime\n",
    "\n",
    "# folder setup\n",
    "home_dir = os.environ[\"HOME\"]  # home folder\n",
    "script_dir = os.getcwd()  # running file folder\n",
    "s4_dir = [s for s in os.listdir(home_dir + '/programs/S4/build/') if \"lib.linux\" in s][0]  # S4 library subfolder\n",
    "utils_dir = '../'  # folder for utilities\n",
    "materials_dir = '../materials/'  # folder for material files"
   ]
  },
  {
   "cell_type": "markdown",
   "metadata": {},
   "source": [
    "#### Import S4\n",
    "In order to correctly load all the components of S4 we:\n",
    "- make the S4 folder accessible\n",
    "- load the S4 module\n",
    "- load some utilities to handle the optical constants, because S4 does not have a builting feature for this"
   ]
  },
  {
   "cell_type": "code",
   "execution_count": 36,
   "metadata": {},
   "outputs": [],
   "source": [
    "# importing S4\n",
    "sys.path.append(home_dir + '/programs/S4/build/' + s4_dir)\n",
    "sys.path.append(utils_dir)\n",
    "import S4\n",
    "import utils"
   ]
  },
  {
   "cell_type": "code",
   "execution_count": 37,
   "metadata": {},
   "outputs": [],
   "source": [
    "# building the optical constant database\n",
    "eps_db_out=utils.generate_eps_db(materials_dir,ext='*.edb')  # generates a dictionary with files, eps names and a dictionary containg everything\n",
    "eps_files,eps_names,eps_db=eps_db_out['eps_files'],eps_db_out['eps_names'],eps_db_out['eps_db']  # separate the 3 outputs"
   ]
  },
  {
   "cell_type": "markdown",
   "metadata": {},
   "source": [
    "#### Defining the inputs\n",
    "We are going to calculate the transmission and reflectance spectrum of a Gold Nanodisk array. To do so we need to define the following groups of input parameters:\n",
    "- **Geometrical parameters** of our multilayers, including thicknesses, disk size, etc...\n",
    "- **Material parameters** such as the composition of each layer, substrate and superstrate included\n",
    "- **Illumination parameters**, i.e. wavelengths, angles and polarizations of the incident field\n",
    "- **S4 parameters**, i.e. parameters that are strictly connected with the inner workings of S4\n",
    "\n",
    "We will try to store all these input parameters inside [dictionaries](https://docs.python.org/3/tutorial/datastructures.html#dictionaries), so that they can be handily exported later in order to improve the riproducibility of our calculations"
   ]
  },
  {
   "cell_type": "code",
   "execution_count": 38,
   "metadata": {},
   "outputs": [],
   "source": [
    "# light dictionary\n",
    "light = {}\n",
    "light['theta'] = 0.0\n",
    "light['phi'] = 0.0\n",
    "light['pol'] = [0.0,1.0]  # s and p polarization amplitudes\n",
    "light['NumBasis'] = 100  # number of plane waves\n",
    "\n",
    "# Geometrical parameters\n",
    "struct = {}\n",
    "# nanodisk array parameters\n",
    "struct['inc_shape'] = 'circle'  # flag to log the shape of the inclusion\n",
    "struct['nd_radius'] = 100.0  # nanodisk radius\n",
    "struct['nd_height'] = 100.0  # nanodisk height\n",
    "struct['nd_period_x'] = 600.0  # nanodisk array x period\n",
    "struct['nd_period_y'] = 600.0  # nanodisk array y period\n",
    "struct['nd_inc_mat'] = 'e_au'  # nanodisk material\n",
    "struct['nd_back_mat'] = 'e_vacuum'  # background material in the nanodisk array\n",
    "# superstrate and substrate parameters\n",
    "struct['sub_mat'] = 'e_vacuum'  # substrate material\n",
    "struct['sup_mat'] = 'e_vacuum'  # superstrate material\n",
    "struct['materials_stack'] = [struct[\"sup_mat\"], struct[\"nd_inc_mat\"], struct[\"sub_mat\"]]\n",
    "\n",
    "# Emustack parameters\n",
    "s4 = {}\n",
    "s4['PolarizationDecomposition'] = True  # are we using fast fourier factorization\n",
    "s4['PolarizationBasis'] = 'Jones'  # which kind of fast fourier factorization?"
   ]
  },
  {
   "cell_type": "markdown",
   "metadata": {},
   "source": [
    "#### Load spectral data\n",
    "We load the spectra data. We then take the wavelength of maximum reflectance to compute the local fields"
   ]
  },
  {
   "cell_type": "code",
   "execution_count": 39,
   "metadata": {},
   "outputs": [],
   "source": [
    "s4_spectra = xr.load_dataarray('data/S4_AuNdArraySpectra_circle_px600.0_py400.0_r100.0_h100.0_180222_123031.nc')  # load the spectral data\n",
    "wl_index = s4_spectra.sel(spectrum='R').argmax().item()  # find the index where the reflectance is maximum\n",
    "light['wl'] = s4_spectra.coords['wavelength'][wl_index].item()  # get the wavelength of maximum reflactance"
   ]
  },
  {
   "cell_type": "markdown",
   "metadata": {},
   "source": [
    "#### Build the S4 stack\n",
    "In S4 you initialize a whole **S** object, which containts all the informations necessary for the computation, including:\n",
    "- Incident plane wave, energy, direction, polarization, and number of **G** orders included\n",
    "- Formal definition of the materials\n",
    "- Information on all the layers, nanostructured or not, from top to bottom\n",
    "- Computational informations, such as fast fourier factorization, etc..."
   ]
  },
  {
   "cell_type": "code",
   "execution_count": 40,
   "metadata": {},
   "outputs": [],
   "source": [
    "# initialize s4 lattice, including the number of plane waves\n",
    "S = S4.New(Lattice=((struct[\"nd_period_x\"], 0), (0, struct[\"nd_period_y\"])), NumBasis=light[\"NumBasis\"])\n",
    "\n",
    "# retrieving optical constants at wl from the database\n",
    "e_list = np.array(utils.db_to_eps(light['wl'], eps_db, struct['materials_stack']))\n",
    "\n",
    "# Define the materias inside the S4 formalism: the materials are complex dielectric functions\n",
    "S.SetMaterial(\"Air\", e_list[0])\n",
    "S.SetMaterial(\"Au\", e_list[1])\n",
    "\n",
    "# Add the incident medium layer\n",
    "S.AddLayer(\"Inc\", 0.0, \"Air\")  # Add layer with a Name, a Thickness and a Composition\n",
    "\n",
    "# Add the Nanostructured layer\n",
    "S.AddLayer(\"Slab\", struct[\"nd_height\"], \"Air\")\n",
    "S.SetRegionCircle(\"Slab\", \"Au\", (struct['nd_period_x']/2, struct['nd_period_y']/2), struct[\"nd_radius\"])\n",
    "\n",
    "# Substrate\n",
    "S.AddLayer(\"Sub\", 0.0, \"Air\")\n",
    "\n",
    "# incident wave + computing options\n",
    "S.SetExcitationPlanewave((light[\"theta\"], light[\"phi\"]), light[\"pol\"][0], light[\"pol\"][1])\n",
    "S.SetFrequency(1.0/light['wl'])  # frequency as reciprocal of the utilized wavelength)\n",
    "S.SetOptions(PolarizationDecomposition=s4[\"PolarizationDecomposition\"], PolarizationBasis=s4[\"PolarizationBasis\"])\n",
    "\n"
   ]
  },
  {
   "cell_type": "markdown",
   "metadata": {},
   "source": [
    "#### LF computation\n",
    "Now we build functions that:\n",
    "- takes and incident field, i.e. and object.Light as input\n",
    "- solves for the mode in each layer, where the FEM solver works in the nanostructured layer\n",
    "- builds a stack with the solver layer, in the order bottom -> top\n",
    "- returns the stack\n",
    "- take the returned stack as input and compute the local field input"
   ]
  },
  {
   "cell_type": "code",
   "execution_count": 41,
   "metadata": {},
   "outputs": [],
   "source": [
    "def lf(S, z=0.0, n_points=500):\n",
    "\n",
    "    # Conpute fields on a grid using s4 native routine\n",
    "    E,H = S.GetFieldsOnGrid(z = z, NumSamples=(n_points,n_points), Format = 'Array')\n",
    "\n",
    "    # compute square modulus of the field\n",
    "    E = np.array(list(E))\n",
    "    m_AbsE = np.sqrt(np.abs(E[:,:,0])**2 + np.abs(E[:,:,1])**2 + np.abs(E[:,:,2])**2).T\n",
    "\n",
    "    return m_AbsE"
   ]
  },
  {
   "cell_type": "code",
   "execution_count": 42,
   "metadata": {},
   "outputs": [],
   "source": [
    "m_AbsE = lf(S,z=0.5 * struct['nd_height'])"
   ]
  },
  {
   "cell_type": "code",
   "execution_count": 43,
   "metadata": {},
   "outputs": [],
   "source": [
    "# build output filename\n",
    "now = datetime.now()  # what time is it?\n",
    "timestamp = now.strftime(\"%d%m%y_%H%M%S\")  # build timestamp string as day,month,year _ hour,minute,second\n",
    "out_filename = (\n",
    "    \"S4_AuNdArrayLF_\"\n",
    "    + struct[\"inc_shape\"]\n",
    "    + \"_px\"\n",
    "    + str(struct[\"nd_period_x\"])\n",
    "    + \"_py\"\n",
    "    + str(struct[\"nd_period_y\"])\n",
    "    + \"_r\"\n",
    "    + str(struct[\"nd_radius\"])\n",
    "    + \"_h\"\n",
    "    + str(struct[\"nd_height\"])\n",
    "    + \"_\"\n",
    "    + timestamp\n",
    ")\n",
    "\n",
    "# create vector to map x and y coords\n",
    "v_coords_x = np.linspace(0.0,struct['nd_period_x'],500)\n",
    "v_coords_y = np.linspace(0.0,struct['nd_period_y'],500)\n",
    "# save the data as in the case of the spectra\n",
    "s4_lf = xr.DataArray(m_AbsE, coords=[v_coords_y,v_coords_x], dims=[\"y\", \"x\"])\n",
    "s4_lf.attrs['light'] = str(light)\n",
    "s4_lf.attrs['struct'] = str(struct)\n",
    "s4_lf.attrs['emu'] = str(s4)\n",
    "s4_lf.to_netcdf(\"data/\" + out_filename + \".nc\")"
   ]
  }
 ],
 "metadata": {
  "interpreter": {
   "hash": "c76d8be8ff8db75ac82c0a56469940f153bb76f9e9839ea54774f5a675a4465e"
  },
  "kernelspec": {
   "display_name": "Python 3.8.12 ('nomkl')",
   "language": "python",
   "name": "python3"
  },
  "language_info": {
   "codemirror_mode": {
    "name": "ipython",
    "version": 3
   },
   "file_extension": ".py",
   "mimetype": "text/x-python",
   "name": "python",
   "nbconvert_exporter": "python",
   "pygments_lexer": "ipython3",
   "version": "3.8.12"
  },
  "orig_nbformat": 4
 },
 "nbformat": 4,
 "nbformat_minor": 2
}
